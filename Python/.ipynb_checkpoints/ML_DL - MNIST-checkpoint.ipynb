{
 "cells": [
  {
   "cell_type": "code",
   "execution_count": 18,
   "metadata": {},
   "outputs": [],
   "source": [
    "import pandas as pd\n",
    "import numpy as np\n",
    "import idx2numpy\n",
    "import matplotlib as mlt\n",
    "import matplotlib.pyplot as plt\n",
    "import seaborn as sns\n",
    "from sklearn.linear_model import LogisticRegression\n",
    "from sklearn.preprocessing import MinMaxScaler\n",
    "from sklearn.neighbors import KNeighborsClassifier\n",
    "from sklearn import metrics\n",
    "from sklearn.model_selection import train_test_split, GridSearchCV\n",
    "from scipy import stats\n",
    "from sklearn.ensemble import RandomForestClassifier, VotingClassifier, BaggingClassifier"
   ]
  },
  {
   "cell_type": "code",
   "execution_count": null,
   "metadata": {},
   "outputs": [],
   "source": [
    "help(idx2numpy)"
   ]
  },
  {
   "cell_type": "code",
   "execution_count": 11,
   "metadata": {},
   "outputs": [],
   "source": [
    "X_test_3D = idx2numpy.convert_from_file(\"t10k-images.idx3-ubyte\")"
   ]
  },
  {
   "cell_type": "code",
   "execution_count": 12,
   "metadata": {},
   "outputs": [],
   "source": [
    "X_train_3D = idx2numpy.convert_from_file(\"train-images.idx3-ubyte\")"
   ]
  },
  {
   "cell_type": "code",
   "execution_count": 13,
   "metadata": {},
   "outputs": [],
   "source": [
    "y_train = idx2numpy.convert_from_file(\"train-labels.idx1-ubyte\")"
   ]
  },
  {
   "cell_type": "code",
   "execution_count": 14,
   "metadata": {},
   "outputs": [],
   "source": [
    "y_test = idx2numpy.convert_from_file(\"t10k-labels.idx1-ubyte\")"
   ]
  },
  {
   "cell_type": "code",
   "execution_count": 10,
   "metadata": {},
   "outputs": [
    {
     "data": {
      "text/plain": [
       "array([  0,   0,   0,   0,   0,   0,   0,   0,   0,   0,   0,   0,   0,\n",
       "         0,   0,   0,   0,   0,   0,   0,   0,   0,   0,   0,   0,   0,\n",
       "         0,   0,   0,   0,   0,   0,   0,   0,   0,   0,   0,   0,   0,\n",
       "         0,   0,   0,   0,   0,   0,   0,   0,   0,   0,   0,   0,   0,\n",
       "         0,   0,   0,   0,   0,   0,   0,   0,   0,   0,   0,   0,   0,\n",
       "         0,   0,   0,   0,   0,   0,   0,   0,   0,   0,   0,   0,   0,\n",
       "         0,   0,   0,   0,   0,   0,   0,   0,   0,   0,   0,   0,   0,\n",
       "         0,   0,   0,   0,   0,   0,   0,   0,   0,   0,   0,   0,   0,\n",
       "         0,   0,   0,   0,   0,   0,   0,   0,   0,   0,   0,   0,   0,\n",
       "         0,   0,   0,   0,   0,   0,   0,   0,   0,   0,   0,   0,   0,\n",
       "         0,   0,   0,   0,   0,   0,   0,   0,   0,   0,   0,   0,   0,\n",
       "         0,   0,   0,   0,   0,   0,   0,   0,   0,   3,  18,  18,  18,\n",
       "       126, 136, 175,  26, 166, 255, 247, 127,   0,   0,   0,   0,   0,\n",
       "         0,   0,   0,   0,   0,   0,   0,  30,  36,  94, 154, 170, 253,\n",
       "       253, 253, 253, 253, 225, 172, 253, 242, 195,  64,   0,   0,   0,\n",
       "         0,   0,   0,   0,   0,   0,   0,   0,  49, 238, 253, 253, 253,\n",
       "       253, 253, 253, 253, 253, 251,  93,  82,  82,  56,  39,   0,   0,\n",
       "         0,   0,   0,   0,   0,   0,   0,   0,   0,   0,  18, 219, 253,\n",
       "       253, 253, 253, 253, 198, 182, 247, 241,   0,   0,   0,   0,   0,\n",
       "         0,   0,   0,   0,   0,   0,   0,   0,   0,   0,   0,   0,   0,\n",
       "        80, 156, 107, 253, 253, 205,  11,   0,  43, 154,   0,   0,   0,\n",
       "         0,   0,   0,   0,   0,   0,   0,   0,   0,   0,   0,   0,   0,\n",
       "         0,   0,   0,  14,   1, 154, 253,  90,   0,   0,   0,   0,   0,\n",
       "         0,   0,   0,   0,   0,   0,   0,   0,   0,   0,   0,   0,   0,\n",
       "         0,   0,   0,   0,   0,   0,   0, 139, 253, 190,   2,   0,   0,\n",
       "         0,   0,   0,   0,   0,   0,   0,   0,   0,   0,   0,   0,   0,\n",
       "         0,   0,   0,   0,   0,   0,   0,   0,   0,  11, 190, 253,  70,\n",
       "         0,   0,   0,   0,   0,   0,   0,   0,   0,   0,   0,   0,   0,\n",
       "         0,   0,   0,   0,   0,   0,   0,   0,   0,   0,   0,   0,  35,\n",
       "       241, 225, 160, 108,   1,   0,   0,   0,   0,   0,   0,   0,   0,\n",
       "         0,   0,   0,   0,   0,   0,   0,   0,   0,   0,   0,   0,   0,\n",
       "         0,   0,  81, 240, 253, 253, 119,  25,   0,   0,   0,   0,   0,\n",
       "         0,   0,   0,   0,   0,   0,   0,   0,   0,   0,   0,   0,   0,\n",
       "         0,   0,   0,   0,   0,  45, 186, 253, 253, 150,  27,   0,   0,\n",
       "         0,   0,   0,   0,   0,   0,   0,   0,   0,   0,   0,   0,   0,\n",
       "         0,   0,   0,   0,   0,   0,   0,   0,  16,  93, 252, 253, 187,\n",
       "         0,   0,   0,   0,   0,   0,   0,   0,   0,   0,   0,   0,   0,\n",
       "         0,   0,   0,   0,   0,   0,   0,   0,   0,   0,   0,   0, 249,\n",
       "       253, 249,  64,   0,   0,   0,   0,   0,   0,   0,   0,   0,   0,\n",
       "         0,   0,   0,   0,   0,   0,   0,   0,   0,   0,   0,  46, 130,\n",
       "       183, 253, 253, 207,   2,   0,   0,   0,   0,   0,   0,   0,   0,\n",
       "         0,   0,   0,   0,   0,   0,   0,   0,   0,   0,   0,  39, 148,\n",
       "       229, 253, 253, 253, 250, 182,   0,   0,   0,   0,   0,   0,   0,\n",
       "         0,   0,   0,   0,   0,   0,   0,   0,   0,   0,   0,  24, 114,\n",
       "       221, 253, 253, 253, 253, 201,  78,   0,   0,   0,   0,   0,   0,\n",
       "         0,   0,   0,   0,   0,   0,   0,   0,   0,   0,   0,  23,  66,\n",
       "       213, 253, 253, 253, 253, 198,  81,   2,   0,   0,   0,   0,   0,\n",
       "         0,   0,   0,   0,   0,   0,   0,   0,   0,   0,   0,  18, 171,\n",
       "       219, 253, 253, 253, 253, 195,  80,   9,   0,   0,   0,   0,   0,\n",
       "         0,   0,   0,   0,   0,   0,   0,   0,   0,   0,   0,  55, 172,\n",
       "       226, 253, 253, 253, 253, 244, 133,  11,   0,   0,   0,   0,   0,\n",
       "         0,   0,   0,   0,   0,   0,   0,   0,   0,   0,   0,   0,   0,\n",
       "       136, 253, 253, 253, 212, 135, 132,  16,   0,   0,   0,   0,   0,\n",
       "         0,   0,   0,   0,   0,   0,   0,   0,   0,   0,   0,   0,   0,\n",
       "         0,   0,   0,   0,   0,   0,   0,   0,   0,   0,   0,   0,   0,\n",
       "         0,   0,   0,   0,   0,   0,   0,   0,   0,   0,   0,   0,   0,\n",
       "         0,   0,   0,   0,   0,   0,   0,   0,   0,   0,   0,   0,   0,\n",
       "         0,   0,   0,   0,   0,   0,   0,   0,   0,   0,   0,   0,   0,\n",
       "         0,   0,   0,   0,   0,   0,   0,   0,   0,   0,   0,   0,   0,\n",
       "         0,   0,   0,   0,   0,   0,   0,   0,   0,   0,   0,   0,   0,\n",
       "         0,   0,   0,   0], dtype=uint8)"
      ]
     },
     "execution_count": 10,
     "metadata": {},
     "output_type": "execute_result"
    }
   ],
   "source": [
    "X_train[0]"
   ]
  },
  {
   "cell_type": "code",
   "execution_count": 8,
   "metadata": {},
   "outputs": [],
   "source": [
    "X_test = []\n",
    "for x in X_test_3D :\n",
    "    X_test.append(x.flatten())"
   ]
  },
  {
   "cell_type": "code",
   "execution_count": 9,
   "metadata": {},
   "outputs": [],
   "source": [
    "X_train = []\n",
    "for x in X_train_3D :\n",
    "    X_train.append(x.flatten())"
   ]
  },
  {
   "cell_type": "code",
   "execution_count": 44,
   "metadata": {},
   "outputs": [
    {
     "data": {
      "text/plain": [
       "784"
      ]
     },
     "execution_count": 44,
     "metadata": {},
     "output_type": "execute_result"
    }
   ],
   "source": [
    "len(X_train[0])"
   ]
  },
  {
   "cell_type": "code",
   "execution_count": 49,
   "metadata": {},
   "outputs": [],
   "source": [
    "bag_params = {'n_estimators': range(100, 400, 100),\n",
    "             'max_depth': range(2, 15),\n",
    "            'n_neighbors': range(5, 51, 5)}"
   ]
  },
  {
   "cell_type": "code",
   "execution_count": 8,
   "metadata": {},
   "outputs": [],
   "source": [
    "bg = BaggingClassifier(KNeighborsClassifier(), n_estimators=10, verbose=2)"
   ]
  },
  {
   "cell_type": "code",
   "execution_count": 9,
   "metadata": {},
   "outputs": [
    {
     "name": "stderr",
     "output_type": "stream",
     "text": [
      "[Parallel(n_jobs=4)]: Using backend LokyBackend with 4 concurrent workers.\n",
      "[Parallel(n_jobs=4)]: Done   4 out of   4 | elapsed:  7.0min finished\n"
     ]
    },
    {
     "data": {
      "text/plain": [
       "BaggingClassifier(base_estimator=KNeighborsClassifier(), n_jobs=-1, verbose=2)"
      ]
     },
     "execution_count": 9,
     "metadata": {},
     "output_type": "execute_result"
    }
   ],
   "source": [
    "bg.fit(X_train, y_train)"
   ]
  },
  {
   "cell_type": "code",
   "execution_count": null,
   "metadata": {},
   "outputs": [
    {
     "name": "stderr",
     "output_type": "stream",
     "text": [
      "[Parallel(n_jobs=4)]: Using backend LokyBackend with 4 concurrent workers.\n"
     ]
    }
   ],
   "source": [
    "bg.score(X_test, y_test)"
   ]
  },
  {
   "cell_type": "code",
   "execution_count": 8,
   "metadata": {},
   "outputs": [],
   "source": [
    "rf = RandomForestClassifier(verbose=2)"
   ]
  },
  {
   "cell_type": "code",
   "execution_count": 9,
   "metadata": {},
   "outputs": [
    {
     "name": "stderr",
     "output_type": "stream",
     "text": [
      "[Parallel(n_jobs=1)]: Using backend SequentialBackend with 1 concurrent workers.\n"
     ]
    },
    {
     "name": "stdout",
     "output_type": "stream",
     "text": [
      "building tree 1 of 100\n"
     ]
    },
    {
     "name": "stderr",
     "output_type": "stream",
     "text": [
      "[Parallel(n_jobs=1)]: Done   1 out of   1 | elapsed:    0.2s remaining:    0.0s\n"
     ]
    },
    {
     "name": "stdout",
     "output_type": "stream",
     "text": [
      "building tree 2 of 100\n",
      "building tree 3 of 100\n",
      "building tree 4 of 100\n",
      "building tree 5 of 100\n",
      "building tree 6 of 100\n",
      "building tree 7 of 100\n",
      "building tree 8 of 100\n",
      "building tree 9 of 100\n",
      "building tree 10 of 100\n",
      "building tree 11 of 100\n",
      "building tree 12 of 100\n",
      "building tree 13 of 100\n",
      "building tree 14 of 100\n",
      "building tree 15 of 100\n",
      "building tree 16 of 100\n",
      "building tree 17 of 100\n",
      "building tree 18 of 100\n",
      "building tree 19 of 100\n",
      "building tree 20 of 100\n",
      "building tree 21 of 100\n",
      "building tree 22 of 100\n",
      "building tree 23 of 100\n",
      "building tree 24 of 100\n",
      "building tree 25 of 100\n",
      "building tree 26 of 100\n",
      "building tree 27 of 100\n",
      "building tree 28 of 100\n",
      "building tree 29 of 100\n",
      "building tree 30 of 100\n",
      "building tree 31 of 100\n",
      "building tree 32 of 100\n",
      "building tree 33 of 100\n",
      "building tree 34 of 100\n",
      "building tree 35 of 100\n",
      "building tree 36 of 100\n",
      "building tree 37 of 100\n",
      "building tree 38 of 100\n",
      "building tree 39 of 100\n",
      "building tree 40 of 100\n",
      "building tree 41 of 100\n",
      "building tree 42 of 100\n",
      "building tree 43 of 100\n",
      "building tree 44 of 100\n",
      "building tree 45 of 100\n",
      "building tree 46 of 100\n",
      "building tree 47 of 100\n",
      "building tree 48 of 100\n",
      "building tree 49 of 100\n",
      "building tree 50 of 100\n",
      "building tree 51 of 100\n",
      "building tree 52 of 100\n",
      "building tree 53 of 100\n",
      "building tree 54 of 100\n",
      "building tree 55 of 100\n",
      "building tree 56 of 100\n",
      "building tree 57 of 100\n",
      "building tree 58 of 100\n",
      "building tree 59 of 100\n",
      "building tree 60 of 100\n",
      "building tree 61 of 100\n",
      "building tree 62 of 100\n",
      "building tree 63 of 100\n",
      "building tree 64 of 100\n",
      "building tree 65 of 100\n",
      "building tree 66 of 100\n",
      "building tree 67 of 100\n",
      "building tree 68 of 100\n",
      "building tree 69 of 100\n",
      "building tree 70 of 100\n",
      "building tree 71 of 100\n",
      "building tree 72 of 100\n",
      "building tree 73 of 100\n",
      "building tree 74 of 100\n",
      "building tree 75 of 100\n",
      "building tree 76 of 100\n",
      "building tree 77 of 100\n",
      "building tree 78 of 100\n",
      "building tree 79 of 100\n",
      "building tree 80 of 100\n",
      "building tree 81 of 100\n",
      "building tree 82 of 100\n",
      "building tree 83 of 100\n",
      "building tree 84 of 100\n",
      "building tree 85 of 100\n",
      "building tree 86 of 100\n",
      "building tree 87 of 100\n",
      "building tree 88 of 100\n",
      "building tree 89 of 100\n",
      "building tree 90 of 100\n",
      "building tree 91 of 100\n",
      "building tree 92 of 100\n",
      "building tree 93 of 100\n",
      "building tree 94 of 100\n",
      "building tree 95 of 100\n",
      "building tree 96 of 100\n",
      "building tree 97 of 100\n",
      "building tree 98 of 100\n",
      "building tree 99 of 100\n",
      "building tree 100 of 100\n"
     ]
    },
    {
     "name": "stderr",
     "output_type": "stream",
     "text": [
      "[Parallel(n_jobs=1)]: Done 100 out of 100 | elapsed:   35.2s finished\n"
     ]
    },
    {
     "data": {
      "text/plain": [
       "RandomForestClassifier(verbose=2)"
      ]
     },
     "execution_count": 9,
     "metadata": {},
     "output_type": "execute_result"
    }
   ],
   "source": [
    "rf.fit(X_train, y_train)"
   ]
  },
  {
   "cell_type": "code",
   "execution_count": 12,
   "metadata": {},
   "outputs": [
    {
     "name": "stderr",
     "output_type": "stream",
     "text": [
      "[Parallel(n_jobs=1)]: Using backend SequentialBackend with 1 concurrent workers.\n",
      "[Parallel(n_jobs=1)]: Done   1 out of   1 | elapsed:    0.0s remaining:    0.0s\n",
      "[Parallel(n_jobs=1)]: Done 100 out of 100 | elapsed:    0.3s finished\n"
     ]
    },
    {
     "data": {
      "text/plain": [
       "0.9692"
      ]
     },
     "execution_count": 12,
     "metadata": {},
     "output_type": "execute_result"
    }
   ],
   "source": [
    "rf.score(X_test, y_test)"
   ]
  },
  {
   "cell_type": "code",
   "execution_count": 13,
   "metadata": {},
   "outputs": [
    {
     "name": "stderr",
     "output_type": "stream",
     "text": [
      "[Parallel(n_jobs=1)]: Using backend SequentialBackend with 1 concurrent workers.\n",
      "[Parallel(n_jobs=1)]: Done   1 out of   1 | elapsed:    0.0s remaining:    0.0s\n",
      "[Parallel(n_jobs=1)]: Done 100 out of 100 | elapsed:    0.3s finished\n"
     ]
    }
   ],
   "source": [
    "pred = rf.predict(X_test)"
   ]
  },
  {
   "cell_type": "code",
   "execution_count": 15,
   "metadata": {},
   "outputs": [
    {
     "name": "stdout",
     "output_type": "stream",
     "text": [
      "              precision    recall  f1-score   support\n",
      "\n",
      "           0       0.97      0.99      0.98       980\n",
      "           1       0.99      0.99      0.99      1135\n",
      "           2       0.96      0.97      0.97      1032\n",
      "           3       0.96      0.96      0.96      1010\n",
      "           4       0.97      0.97      0.97       982\n",
      "           5       0.97      0.96      0.97       892\n",
      "           6       0.98      0.98      0.98       958\n",
      "           7       0.97      0.96      0.97      1028\n",
      "           8       0.96      0.96      0.96       974\n",
      "           9       0.95      0.95      0.95      1009\n",
      "\n",
      "    accuracy                           0.97     10000\n",
      "   macro avg       0.97      0.97      0.97     10000\n",
      "weighted avg       0.97      0.97      0.97     10000\n",
      "\n"
     ]
    }
   ],
   "source": [
    "print(metrics.classification_report(y_test, pred))"
   ]
  },
  {
   "cell_type": "code",
   "execution_count": 16,
   "metadata": {},
   "outputs": [
    {
     "data": {
      "text/plain": [
       "array([[ 973,    1,    0,    0,    0,    2,    2,    1,    1,    0],\n",
       "       [   0, 1123,    2,    4,    0,    2,    2,    0,    1,    1],\n",
       "       [   6,    1, 1001,    4,    2,    0,    4,    8,    6,    0],\n",
       "       [   0,    0,   11,  970,    0,    8,    0,    9,    8,    4],\n",
       "       [   2,    0,    1,    0,  954,    0,    5,    1,    2,   17],\n",
       "       [   2,    0,    0,   14,    4,  858,    4,    3,    5,    2],\n",
       "       [   6,    3,    2,    0,    3,    4,  936,    0,    4,    0],\n",
       "       [   1,    2,   20,    0,    2,    0,    0,  989,    2,   12],\n",
       "       [   4,    0,    4,    8,    5,    6,    3,    3,  931,   10],\n",
       "       [   5,    6,    1,   12,   12,    3,    1,    5,    7,  957]],\n",
       "      dtype=int64)"
      ]
     },
     "execution_count": 16,
     "metadata": {},
     "output_type": "execute_result"
    }
   ],
   "source": [
    "metrics.confusion_matrix(y_test, pred)"
   ]
  },
  {
   "cell_type": "markdown",
   "metadata": {},
   "source": [
    "# SVM"
   ]
  },
  {
   "cell_type": "code",
   "execution_count": 8,
   "metadata": {},
   "outputs": [],
   "source": [
    "from sklearn import svm"
   ]
  },
  {
   "cell_type": "code",
   "execution_count": 9,
   "metadata": {},
   "outputs": [],
   "source": [
    "sv = svm.SVC(verbose=2)"
   ]
  },
  {
   "cell_type": "code",
   "execution_count": 10,
   "metadata": {},
   "outputs": [
    {
     "name": "stdout",
     "output_type": "stream",
     "text": [
      "[LibSVM]"
     ]
    },
    {
     "data": {
      "text/plain": [
       "SVC(verbose=2)"
      ]
     },
     "execution_count": 10,
     "metadata": {},
     "output_type": "execute_result"
    }
   ],
   "source": [
    "sv.fit(X_train, y_train)"
   ]
  },
  {
   "cell_type": "code",
   "execution_count": 12,
   "metadata": {},
   "outputs": [
    {
     "data": {
      "text/plain": [
       "0.9792"
      ]
     },
     "execution_count": 12,
     "metadata": {},
     "output_type": "execute_result"
    }
   ],
   "source": [
    "sv.score(X_test, y_test)"
   ]
  },
  {
   "cell_type": "code",
   "execution_count": 13,
   "metadata": {},
   "outputs": [],
   "source": [
    "pred = sv.predict(X_test)"
   ]
  },
  {
   "cell_type": "code",
   "execution_count": 14,
   "metadata": {},
   "outputs": [
    {
     "name": "stdout",
     "output_type": "stream",
     "text": [
      "[[ 973    0    1    0    0    2    1    1    2    0]\n",
      " [   0 1126    3    1    0    1    1    1    2    0]\n",
      " [   6    1 1006    2    1    0    2    7    6    1]\n",
      " [   0    0    2  995    0    2    0    5    5    1]\n",
      " [   0    0    5    0  961    0    3    0    2   11]\n",
      " [   2    0    0    9    0  871    4    1    4    1]\n",
      " [   6    2    0    0    2    3  944    0    1    0]\n",
      " [   0    6   11    1    1    0    0  996    2   11]\n",
      " [   3    0    2    6    3    2    2    3  950    3]\n",
      " [   3    4    1    7   10    2    1    7    4  970]]\n"
     ]
    }
   ],
   "source": [
    "print(metrics.confusion_matrix(y_test, pred))"
   ]
  },
  {
   "cell_type": "code",
   "execution_count": 57,
   "metadata": {},
   "outputs": [],
   "source": [
    "params = {'kernel': ['linear', 'poly', 'rbf', 'sigmoid']\n",
    "}"
   ]
  },
  {
   "cell_type": "code",
   "execution_count": 58,
   "metadata": {},
   "outputs": [],
   "source": [
    "grid = GridSearchCV(svm.SVC(verbose=True), params, cv=5)"
   ]
  },
  {
   "cell_type": "code",
   "execution_count": 59,
   "metadata": {},
   "outputs": [],
   "source": [
    "Xmini = X_train[:1500]\n",
    "Ymini = y_train[:1500]"
   ]
  },
  {
   "cell_type": "code",
   "execution_count": 60,
   "metadata": {},
   "outputs": [
    {
     "name": "stdout",
     "output_type": "stream",
     "text": [
      "[LibSVM][LibSVM][LibSVM][LibSVM][LibSVM][LibSVM][LibSVM][LibSVM][LibSVM][LibSVM][LibSVM][LibSVM][LibSVM][LibSVM][LibSVM][LibSVM][LibSVM][LibSVM][LibSVM][LibSVM][LibSVM]"
     ]
    },
    {
     "data": {
      "text/plain": [
       "GridSearchCV(cv=5, estimator=SVC(verbose=True),\n",
       "             param_grid={'kernel': ['linear', 'poly', 'rbf', 'sigmoid']})"
      ]
     },
     "execution_count": 60,
     "metadata": {},
     "output_type": "execute_result"
    }
   ],
   "source": [
    "grid.fit(Xmini, Ymini)"
   ]
  },
  {
   "cell_type": "code",
   "execution_count": 63,
   "metadata": {},
   "outputs": [
    {
     "data": {
      "text/plain": [
       "{'kernel': 'rbf'}"
      ]
     },
     "execution_count": 63,
     "metadata": {},
     "output_type": "execute_result"
    }
   ],
   "source": [
    "grid.best_params_"
   ]
  },
  {
   "cell_type": "code",
   "execution_count": 62,
   "metadata": {},
   "outputs": [
    {
     "data": {
      "text/plain": [
       "0.9113333333333333"
      ]
     },
     "execution_count": 62,
     "metadata": {},
     "output_type": "execute_result"
    }
   ],
   "source": [
    "grid.best_score_"
   ]
  },
  {
   "cell_type": "code",
   "execution_count": 32,
   "metadata": {},
   "outputs": [
    {
     "data": {
      "text/plain": [
       "SVC()"
      ]
     },
     "execution_count": 32,
     "metadata": {},
     "output_type": "execute_result"
    }
   ],
   "source": [
    "sv2 = svm.SVC()\n",
    "sv2.fit(Xmini, Ymini)"
   ]
  },
  {
   "cell_type": "code",
   "execution_count": 33,
   "metadata": {},
   "outputs": [
    {
     "data": {
      "text/plain": [
       "0.9222"
      ]
     },
     "execution_count": 33,
     "metadata": {},
     "output_type": "execute_result"
    }
   ],
   "source": [
    "sv2.score(X_test, y_test)"
   ]
  },
  {
   "cell_type": "code",
   "execution_count": 42,
   "metadata": {},
   "outputs": [
    {
     "data": {
      "text/plain": [
       "[0.0, 0.2, 0.4, 0.6, 0.8]"
      ]
     },
     "execution_count": 42,
     "metadata": {},
     "output_type": "execute_result"
    }
   ],
   "source": [
    "[x/5 for x in range(0,5)]"
   ]
  },
  {
   "cell_type": "markdown",
   "metadata": {},
   "source": [
    "# PCA"
   ]
  },
  {
   "cell_type": "code",
   "execution_count": 64,
   "metadata": {},
   "outputs": [],
   "source": [
    "from sklearn.decomposition import PCA"
   ]
  },
  {
   "cell_type": "code",
   "execution_count": 65,
   "metadata": {},
   "outputs": [],
   "source": [
    "pca = PCA(n_components=0.95).fit(X_train, y_train)"
   ]
  },
  {
   "cell_type": "code",
   "execution_count": 69,
   "metadata": {},
   "outputs": [],
   "source": [
    "X_new = pca.transform(X_train)"
   ]
  },
  {
   "cell_type": "code",
   "execution_count": 72,
   "metadata": {},
   "outputs": [
    {
     "data": {
      "text/plain": [
       "(60000, 154)"
      ]
     },
     "execution_count": 72,
     "metadata": {},
     "output_type": "execute_result"
    }
   ],
   "source": [
    "X_new.shape"
   ]
  },
  {
   "cell_type": "code",
   "execution_count": 75,
   "metadata": {},
   "outputs": [
    {
     "data": {
      "text/plain": [
       "(60000, 28, 28)"
      ]
     },
     "execution_count": 75,
     "metadata": {},
     "output_type": "execute_result"
    }
   ],
   "source": [
    "X_train_3D.shape"
   ]
  },
  {
   "cell_type": "code",
   "execution_count": null,
   "metadata": {},
   "outputs": [
    {
     "name": "stdout",
     "output_type": "stream",
     "text": [
      "[LibSVM]"
     ]
    }
   ],
   "source": [
    "grid.fit(X_new, y_train)"
   ]
  },
  {
   "cell_type": "markdown",
   "metadata": {},
   "source": [
    "# MLPClassifier"
   ]
  },
  {
   "cell_type": "code",
   "execution_count": 11,
   "metadata": {},
   "outputs": [],
   "source": [
    "from sklearn.neural_network import MLPClassifier"
   ]
  },
  {
   "cell_type": "code",
   "execution_count": 12,
   "metadata": {},
   "outputs": [],
   "source": [
    "mlp = MLPClassifier(tol=0.0001, hidden_layer_sizes=(120, 100, 50), verbose=2, max_iter=3000, random_state=42)"
   ]
  },
  {
   "cell_type": "code",
   "execution_count": 13,
   "metadata": {},
   "outputs": [
    {
     "name": "stdout",
     "output_type": "stream",
     "text": [
      "Iteration 1, loss = 1.94634135\n",
      "Iteration 2, loss = 0.39612666\n",
      "Iteration 3, loss = 0.24921432\n",
      "Iteration 4, loss = 0.18265219\n",
      "Iteration 5, loss = 0.14855394\n",
      "Iteration 6, loss = 0.11926401\n",
      "Iteration 7, loss = 0.10086582\n",
      "Iteration 8, loss = 0.09257262\n",
      "Iteration 9, loss = 0.08203536\n",
      "Iteration 10, loss = 0.07894903\n",
      "Iteration 11, loss = 0.07544411\n",
      "Iteration 12, loss = 0.07427435\n",
      "Iteration 13, loss = 0.06826509\n",
      "Iteration 14, loss = 0.06983507\n",
      "Iteration 15, loss = 0.06283289\n",
      "Iteration 16, loss = 0.05594806\n",
      "Iteration 17, loss = 0.05253315\n",
      "Iteration 18, loss = 0.04811196\n",
      "Iteration 19, loss = 0.04965570\n",
      "Iteration 20, loss = 0.05705090\n",
      "Iteration 21, loss = 0.04633485\n",
      "Iteration 22, loss = 0.04018726\n",
      "Iteration 23, loss = 0.04119790\n",
      "Iteration 24, loss = 0.03613094\n",
      "Iteration 25, loss = 0.03540812\n",
      "Iteration 26, loss = 0.03157099\n",
      "Iteration 27, loss = 0.03495790\n",
      "Iteration 28, loss = 0.04090623\n",
      "Iteration 29, loss = 0.03022161\n",
      "Iteration 30, loss = 0.02690951\n",
      "Iteration 31, loss = 0.02213414\n",
      "Iteration 32, loss = 0.02589078\n",
      "Iteration 33, loss = 0.03502776\n",
      "Iteration 34, loss = 0.03087802\n",
      "Iteration 35, loss = 0.02415597\n",
      "Iteration 36, loss = 0.02040724\n",
      "Iteration 37, loss = 0.01743683\n",
      "Iteration 38, loss = 0.02529231\n",
      "Iteration 39, loss = 0.02830736\n",
      "Iteration 40, loss = 0.02500295\n",
      "Iteration 41, loss = 0.01394140\n",
      "Iteration 42, loss = 0.01915663\n",
      "Iteration 43, loss = 0.01963728\n",
      "Iteration 44, loss = 0.02241957\n",
      "Iteration 45, loss = 0.01580496\n",
      "Iteration 46, loss = 0.01897339\n",
      "Iteration 47, loss = 0.02142366\n",
      "Iteration 48, loss = 0.02043367\n",
      "Iteration 49, loss = 0.01953918\n",
      "Iteration 50, loss = 0.01563156\n",
      "Iteration 51, loss = 0.02111725\n",
      "Iteration 52, loss = 0.01867824\n",
      "Training loss did not improve more than tol=0.000100 for 10 consecutive epochs. Stopping.\n"
     ]
    },
    {
     "data": {
      "text/plain": [
       "MLPClassifier(hidden_layer_sizes=(120, 100, 50), max_iter=3000, random_state=42,\n",
       "              verbose=2)"
      ]
     },
     "execution_count": 13,
     "metadata": {},
     "output_type": "execute_result"
    }
   ],
   "source": [
    "mlp.fit(X_train, y_train)"
   ]
  },
  {
   "cell_type": "code",
   "execution_count": 14,
   "metadata": {},
   "outputs": [
    {
     "data": {
      "text/plain": [
       "0.9759"
      ]
     },
     "execution_count": 14,
     "metadata": {},
     "output_type": "execute_result"
    }
   ],
   "source": [
    "mlp.score(X_test, y_test)"
   ]
  },
  {
   "cell_type": "code",
   "execution_count": 55,
   "metadata": {},
   "outputs": [],
   "source": [
    "import cv2"
   ]
  },
  {
   "cell_type": "code",
   "execution_count": 56,
   "metadata": {},
   "outputs": [],
   "source": [
    "digit = cv2.imread(\"3g.png\")"
   ]
  },
  {
   "cell_type": "code",
   "execution_count": 57,
   "metadata": {},
   "outputs": [
    {
     "data": {
      "text/plain": [
       "<matplotlib.image.AxesImage at 0x20c86d2f4f0>"
      ]
     },
     "execution_count": 57,
     "metadata": {},
     "output_type": "execute_result"
    },
    {
     "data": {
      "image/png": "[encoded data removed]",
      "text/plain": [
       "<Figure size 288x288 with 1 Axes>"
      ]
     },
     "metadata": {
      "needs_background": "light"
     },
     "output_type": "display_data"
    }
   ],
   "source": [
    "plt.matshow(digit)"
   ]
  },
  {
   "cell_type": "code",
   "execution_count": 58,
   "metadata": {},
   "outputs": [],
   "source": [
    "digit_gray = cv2.cvtColor(digit, cv2.COLOR_BGR2GRAY)"
   ]
  },
  {
   "cell_type": "code",
   "execution_count": 59,
   "metadata": {},
   "outputs": [],
   "source": [
    "digit_gray = (255 - digit_gray)"
   ]
  },
  {
   "cell_type": "code",
   "execution_count": 70,
   "metadata": {},
   "outputs": [],
   "source": [
    "d = digit_gray.reshape(784)"
   ]
  },
  {
   "cell_type": "code",
   "execution_count": 71,
   "metadata": {},
   "outputs": [
    {
     "data": {
      "text/plain": [
       "array([3], dtype=uint8)"
      ]
     },
     "execution_count": 71,
     "metadata": {},
     "output_type": "execute_result"
    }
   ],
   "source": [
    "mlp.predict([d])"
   ]
  },
  {
   "cell_type": "code",
   "execution_count": 57,
   "metadata": {},
   "outputs": [
    {
     "data": {
      "text/plain": [
       "array([[0., 0., 0., 0., 0., 1., 0., 0., 0., 0.]])"
      ]
     },
     "execution_count": 57,
     "metadata": {},
     "output_type": "execute_result"
    }
   ],
   "source": [
    "np.round_(mlp.predict_proba([d]), decimals=2)"
   ]
  },
  {
   "cell_type": "raw",
   "metadata": {},
   "source": []
  },
  {
   "cell_type": "code",
   "execution_count": 73,
   "metadata": {},
   "outputs": [
    {
     "data": {
      "text/plain": [
       "array([  0,   0,   0,   0,   0,   0,   0,   0,   0,   0,   0,   0,   0,\n",
       "         0,   0,   0,   0,   0,   0,   0,   0,   0,   0,   0,   0,   0,\n",
       "         0,   0,   0,   0,   0,   0,   0,   0,   0,   0,   0,   0,   0,\n",
       "         0,   0,   0,   0,   0,   0,   0,   0,   0,   0,   0,   0,   0,\n",
       "         0,   0,   0,   0,   0,   0,   0,   0,   0,   0,   0,   0,   0,\n",
       "         0,   0,   0,   0,   0,   0,   0,   0,   0,   0,   0,   0,   0,\n",
       "         0,   0,   0,   0,   0,   0,   0,   0,   0,   0,   0,   0,   0,\n",
       "         0,   0,   0,   0,   0,   0,   0,   0,   0,   0,   0,   0,   0,\n",
       "         0,   0,   0,   0,   0,   0,   0,   0,   0,   0,   0,   0,   0,\n",
       "         0,   0,   0,   0,   0,   0,   0,   0,   0,   0,   0,   0,   0,\n",
       "         0,   0,   0,   0,   0,   0,   0,   0,   0,   0,   0,   0,   0,\n",
       "         0,   0,   0,   0,   0,   0,   0,   0,   0,   3,  18,  18,  18,\n",
       "       126, 136, 175,  26, 166, 255, 247, 127,   0,   0,   0,   0,   0,\n",
       "         0,   0,   0,   0,   0,   0,   0,  30,  36,  94, 154, 170, 253,\n",
       "       253, 253, 253, 253, 225, 172, 253, 242, 195,  64,   0,   0,   0,\n",
       "         0,   0,   0,   0,   0,   0,   0,   0,  49, 238, 253, 253, 253,\n",
       "       253, 253, 253, 253, 253, 251,  93,  82,  82,  56,  39,   0,   0,\n",
       "         0,   0,   0,   0,   0,   0,   0,   0,   0,   0,  18, 219, 253,\n",
       "       253, 253, 253, 253, 198, 182, 247, 241,   0,   0,   0,   0,   0,\n",
       "         0,   0,   0,   0,   0,   0,   0,   0,   0,   0,   0,   0,   0,\n",
       "        80, 156, 107, 253, 253, 205,  11,   0,  43, 154,   0,   0,   0,\n",
       "         0,   0,   0,   0,   0,   0,   0,   0,   0,   0,   0,   0,   0,\n",
       "         0,   0,   0,  14,   1, 154, 253,  90,   0,   0,   0,   0,   0,\n",
       "         0,   0,   0,   0,   0,   0,   0,   0,   0,   0,   0,   0,   0,\n",
       "         0,   0,   0,   0,   0,   0,   0, 139, 253, 190,   2,   0,   0,\n",
       "         0,   0,   0,   0,   0,   0,   0,   0,   0,   0,   0,   0,   0,\n",
       "         0,   0,   0,   0,   0,   0,   0,   0,   0,  11, 190, 253,  70,\n",
       "         0,   0,   0,   0,   0,   0,   0,   0,   0,   0,   0,   0,   0,\n",
       "         0,   0,   0,   0,   0,   0,   0,   0,   0,   0,   0,   0,  35,\n",
       "       241, 225, 160, 108,   1,   0,   0,   0,   0,   0,   0,   0,   0,\n",
       "         0,   0,   0,   0,   0,   0,   0,   0,   0,   0,   0,   0,   0,\n",
       "         0,   0,  81, 240, 253, 253, 119,  25,   0,   0,   0,   0,   0,\n",
       "         0,   0,   0,   0,   0,   0,   0,   0,   0,   0,   0,   0,   0,\n",
       "         0,   0,   0,   0,   0,  45, 186, 253, 253, 150,  27,   0,   0,\n",
       "         0,   0,   0,   0,   0,   0,   0,   0,   0,   0,   0,   0,   0,\n",
       "         0,   0,   0,   0,   0,   0,   0,   0,  16,  93, 252, 253, 187,\n",
       "         0,   0,   0,   0,   0,   0,   0,   0,   0,   0,   0,   0,   0,\n",
       "         0,   0,   0,   0,   0,   0,   0,   0,   0,   0,   0,   0, 249,\n",
       "       253, 249,  64,   0,   0,   0,   0,   0,   0,   0,   0,   0,   0,\n",
       "         0,   0,   0,   0,   0,   0,   0,   0,   0,   0,   0,  46, 130,\n",
       "       183, 253, 253, 207,   2,   0,   0,   0,   0,   0,   0,   0,   0,\n",
       "         0,   0,   0,   0,   0,   0,   0,   0,   0,   0,   0,  39, 148,\n",
       "       229, 253, 253, 253, 250, 182,   0,   0,   0,   0,   0,   0,   0,\n",
       "         0,   0,   0,   0,   0,   0,   0,   0,   0,   0,   0,  24, 114,\n",
       "       221, 253, 253, 253, 253, 201,  78,   0,   0,   0,   0,   0,   0,\n",
       "         0,   0,   0,   0,   0,   0,   0,   0,   0,   0,   0,  23,  66,\n",
       "       213, 253, 253, 253, 253, 198,  81,   2,   0,   0,   0,   0,   0,\n",
       "         0,   0,   0,   0,   0,   0,   0,   0,   0,   0,   0,  18, 171,\n",
       "       219, 253, 253, 253, 253, 195,  80,   9,   0,   0,   0,   0,   0,\n",
       "         0,   0,   0,   0,   0,   0,   0,   0,   0,   0,   0,  55, 172,\n",
       "       226, 253, 253, 253, 253, 244, 133,  11,   0,   0,   0,   0,   0,\n",
       "         0,   0,   0,   0,   0,   0,   0,   0,   0,   0,   0,   0,   0,\n",
       "       136, 253, 253, 253, 212, 135, 132,  16,   0,   0,   0,   0,   0,\n",
       "         0,   0,   0,   0,   0,   0,   0,   0,   0,   0,   0,   0,   0,\n",
       "         0,   0,   0,   0,   0,   0,   0,   0,   0,   0,   0,   0,   0,\n",
       "         0,   0,   0,   0,   0,   0,   0,   0,   0,   0,   0,   0,   0,\n",
       "         0,   0,   0,   0,   0,   0,   0,   0,   0,   0,   0,   0,   0,\n",
       "         0,   0,   0,   0,   0,   0,   0,   0,   0,   0,   0,   0,   0,\n",
       "         0,   0,   0,   0,   0,   0,   0,   0,   0,   0,   0,   0,   0,\n",
       "         0,   0,   0,   0,   0,   0,   0,   0,   0,   0,   0,   0,   0,\n",
       "         0,   0,   0,   0], dtype=uint8)"
      ]
     },
     "execution_count": 73,
     "metadata": {},
     "output_type": "execute_result"
    }
   ],
   "source": [
    "X_train[0]"
   ]
  },
  {
   "cell_type": "code",
   "execution_count": 75,
   "metadata": {},
   "outputs": [],
   "source": []
  },
  {
   "cell_type": "code",
   "execution_count": 326,
   "metadata": {},
   "outputs": [
    {
     "data": {
      "text/plain": [
       "array([  0,   0,   0,   0,   0,   0,   0,   0,   0,   0,   0,   0,   0,\n",
       "         0,   0,   0,   0,   0,   0,   0,   0,   0,   0,   0,   0,   0,\n",
       "         0,   0,   0,   0,   0,   0,   0,   0,   0,   0,   0,   0,   0,\n",
       "         0,   0,   0,   0,   0,   0,   0,   0,   0,   0,   0,   0,   0,\n",
       "         0,   0,   0,   0,   0,   0,   0,   0,   0,   0,   0,   0,   0,\n",
       "         0,   0,   0,   0,   0,   0,   0,   0,   0,   0,   0,   0,   0,\n",
       "         0,   0,   0,   0,   0,   0,   0,   0,   0,   0,   0,   0,   0,\n",
       "         0,   0,   0,   0,   0,   0,   0,   0,   0,   0,   0,   0,   0,\n",
       "         0,   0,   0,   0,   0,   0,   0,   0,   0,   0,   0,   0,   0,\n",
       "         0,   0,   0,   0,   0,   0,   0,   0,   0,   0,   0,   0,   0,\n",
       "         0,   0,   0,   0,   0,   0,   0,   0,   0,   0,   0,   0,   0,\n",
       "         0,   0,   0, 255, 255, 255, 255, 255, 255, 255, 255, 255, 255,\n",
       "         0,   0,   0,   0,   0,   0,   0,   0,   0,   0,   0,   0,   0,\n",
       "         0,   0,   0,   0, 255, 255, 255, 255, 255, 255, 255, 255, 255,\n",
       "       255, 255, 255, 255, 255, 255, 255,   0,   0,   0,   0,   0,   0,\n",
       "         0,   0,   0,   0,   0,   0,   0,   0,   0,   0,   0,   0,   0,\n",
       "         0,   0,   0,   0, 255, 255, 255, 255, 255, 255,   0,   0,   0,\n",
       "         0,   0,   0,   0,   0,   0,   0,   0,   0,   0,   0,   0,   0,\n",
       "         0,   0,   0,   0,   0,   0,   0,   0,   0, 255, 255, 255,   0,\n",
       "         0,   0,   0,   0,   0,   0,   0,   0,   0,   0,   0,   0,   0,\n",
       "         0,   0,   0,   0,   0,   0,   0,   0,   0,   0,   0, 255, 255,\n",
       "         0,   0,   0,   0,   0,   0,   0,   0,   0,   0,   0,   0,   0,\n",
       "         0,   0,   0,   0,   0,   0,   0,   0,   0,   0,   0,   0, 255,\n",
       "       255, 255,   0,   0,   0,   0,   0,   0,   0,   0,   0,   0,   0,\n",
       "         0,   0,   0,   0,   0,   0,   0,   0,   0,   0,   0,   0,   0,\n",
       "       255, 255, 255,   0,   0,   0,   0,   0,   0,   0,   0,   0,   0,\n",
       "         0,   0,   0,   0,   0,   0,   0,   0,   0,   0,   0,   0,   0,\n",
       "         0,   0, 255, 255, 255,   0,   0,   0,   0,   0,   0,   0,   0,\n",
       "         0,   0,   0,   0,   0,   0,   0,   0,   0,   0,   0,   0,   0,\n",
       "         0,   0,   0, 255, 255, 255,   0,   0,   0,   0,   0,   0,   0,\n",
       "         0,   0,   0,   0,   0,   0,   0,   0,   0,   0,   0,   0,   0,\n",
       "         0,   0,   0,   0,   0, 255, 255,   0,   0,   0,   0,   0,   0,\n",
       "         0,   0,   0,   0,   0,   0,   0,   0,   0,   0,   0,   0,   0,\n",
       "         0,   0,   0,   0,   0,   0, 255, 255, 255,   0,   0,   0,   0,\n",
       "         0,   0,   0,   0,   0,   0,   0,   0,   0,   0,   0,   0,   0,\n",
       "         0,   0,   0,   0,   0,   0,   0,   0, 255, 255, 255,   0,   0,\n",
       "         0,   0,   0,   0,   0,   0,   0,   0,   0,   0,   0,   0,   0,\n",
       "         0,   0,   0,   0,   0,   0,   0,   0,   0, 255, 255, 255,   0,\n",
       "         0,   0,   0,   0,   0,   0,   0,   0,   0,   0,   0,   0,   0,\n",
       "         0,   0,   0,   0,   0,   0,   0,   0,   0,   0, 255, 255, 255,\n",
       "       255,   0,   0,   0,   0,   0,   0,   0,   0,   0,   0,   0,   0,\n",
       "         0,   0,   0,   0,   0,   0,   0,   0,   0,   0,   0, 255, 255,\n",
       "       255, 255,   0,   0,   0,   0,   0,   0,   0,   0,   0,   0,   0,\n",
       "         0,   0,   0,   0,   0,   0,   0,   0,   0,   0,   0,   0,   0,\n",
       "       255, 255, 255, 255,   0,   0,   0,   0,   0,   0,   0,   0,   0,\n",
       "         0,   0,   0,   0,   0,   0,   0,   0,   0,   0,   0,   0,   0,\n",
       "         0, 255, 255, 255, 255,   0,   0,   0,   0,   0,   0,   0,   0,\n",
       "         0,   0,   0,   0,   0,   0,   0,   0,   0,   0,   0,   0,   0,\n",
       "         0,   0,   0, 255, 255, 255,   0,   0,   0,   0,   0,   0,   0,\n",
       "         0,   0,   0,   0,   0,   0,   0,   0,   0,   0,   0,   0,   0,\n",
       "         0,   0,   0,   0, 255, 255, 255, 255,   0,   0,   0,   0,   0,\n",
       "         0,   0,   0,   0,   0,   0,   0,   0,   0,   0,   0,   0,   0,\n",
       "         0,   0,   0,   0,   0,   0, 255, 255, 255,   0,   0,   0,   0,\n",
       "         0,   0,   0,   0,   0,   0,   0,   0,   0,   0,   0,   0,   0,\n",
       "         0,   0,   0,   0,   0,   0,   0,   0, 255, 255,   0,   0,   0,\n",
       "         0,   0,   0,   0,   0,   0,   0,   0,   0,   0,   0,   0,   0,\n",
       "         0,   0,   0,   0,   0,   0,   0,   0,   0,   0,   0,   0,   0,\n",
       "         0,   0,   0,   0,   0,   0,   0,   0,   0,   0,   0,   0,   0,\n",
       "         0,   0,   0,   0,   0,   0,   0,   0,   0,   0,   0,   0,   0,\n",
       "         0,   0,   0,   0,   0,   0,   0,   0,   0,   0,   0,   0,   0,\n",
       "         0,   0,   0,   0], dtype=uint8)"
      ]
     },
     "execution_count": 326,
     "metadata": {},
     "output_type": "execute_result"
    }
   ],
   "source": [
    "d"
   ]
  },
  {
   "cell_type": "markdown",
   "metadata": {},
   "source": [
    "# Convolution Neural Network"
   ]
  },
  {
   "cell_type": "code",
   "execution_count": 45,
   "metadata": {},
   "outputs": [],
   "source": [
    "import keras\n",
    "from keras.utils import to_categorical\n",
    "from keras.models import Sequential,Input,Model\n",
    "from keras.layers import Dense, Dropout, Flatten\n",
    "from keras.layers import Conv2D, MaxPooling2D\n",
    "from keras.layers.normalization import BatchNormalization\n",
    "from keras.layers.advanced_activations import LeakyReLU"
   ]
  },
  {
   "cell_type": "code",
   "execution_count": 46,
   "metadata": {},
   "outputs": [],
   "source": [
    "batch_size = 64\n",
    "epochs = 20\n",
    "num_classes = 10"
   ]
  },
  {
   "cell_type": "code",
   "execution_count": 47,
   "metadata": {},
   "outputs": [],
   "source": [
    "model = Sequential()\n",
    "model.add(Conv2D(32, kernel_size=(3, 3),activation='linear',input_shape=(28,28,1),padding='same'))\n",
    "model.add(LeakyReLU(alpha=0.1))\n",
    "model.add(MaxPooling2D((2, 2),padding='same'))\n",
    "model.add(Conv2D(64, (3, 3), activation='linear',padding='same'))\n",
    "model.add(LeakyReLU(alpha=0.1))\n",
    "model.add(MaxPooling2D(pool_size=(2, 2),padding='same'))\n",
    "model.add(Conv2D(128, (3, 3), activation='linear',padding='same'))\n",
    "model.add(LeakyReLU(alpha=0.1))                  \n",
    "model.add(MaxPooling2D(pool_size=(2, 2),padding='same'))\n",
    "model.add(Flatten())\n",
    "model.add(Dense(128, activation='linear'))\n",
    "model.add(LeakyReLU(alpha=0.1))                  \n",
    "model.add(Dense(num_classes, activation='softmax'))"
   ]
  },
  {
   "cell_type": "code",
   "execution_count": 48,
   "metadata": {},
   "outputs": [
    {
     "data": {
      "text/plain": [
       "(60000, 10)"
      ]
     },
     "execution_count": 48,
     "metadata": {},
     "output_type": "execute_result"
    }
   ],
   "source": [
    "y_train_hot = to_categorical(y_train)\n",
    "y_test_hot = to_categorical(y_test)\n",
    "y_train_hot.shape"
   ]
  },
  {
   "cell_type": "code",
   "execution_count": 49,
   "metadata": {},
   "outputs": [],
   "source": [
    "X_train = X_train_3D / 255\n",
    "X_test = X_test_3D / 255"
   ]
  },
  {
   "cell_type": "code",
   "execution_count": 50,
   "metadata": {},
   "outputs": [
    {
     "data": {
      "text/plain": [
       "((60000, 28, 28, 1), (10000, 28, 28, 1))"
      ]
     },
     "execution_count": 50,
     "metadata": {},
     "output_type": "execute_result"
    }
   ],
   "source": [
    "X_train = X_train.reshape(-1, 28,28, 1)\n",
    "X_test = X_test.reshape(-1, 28,28, 1)\n",
    "X_train.shape, X_test.shape"
   ]
  },
  {
   "cell_type": "code",
   "execution_count": 51,
   "metadata": {},
   "outputs": [],
   "source": [
    "X_train = X_train.astype('float32')\n",
    "X_test = X_test.astype('float32')"
   ]
  },
  {
   "cell_type": "code",
   "execution_count": 52,
   "metadata": {},
   "outputs": [],
   "source": [
    "model.compile(loss=keras.losses.categorical_crossentropy, optimizer=keras.optimizers.Adam(),metrics=['accuracy'])"
   ]
  },
  {
   "cell_type": "code",
   "execution_count": 53,
   "metadata": {},
   "outputs": [
    {
     "name": "stdout",
     "output_type": "stream",
     "text": [
      "Model: \"sequential_2\"\n",
      "_________________________________________________________________\n",
      "Layer (type)                 Output Shape              Param #   \n",
      "=================================================================\n",
      "conv2d_6 (Conv2D)            (None, 28, 28, 32)        320       \n",
      "_________________________________________________________________\n",
      "leaky_re_lu_8 (LeakyReLU)    (None, 28, 28, 32)        0         \n",
      "_________________________________________________________________\n",
      "max_pooling2d_6 (MaxPooling2 (None, 14, 14, 32)        0         \n",
      "_________________________________________________________________\n",
      "conv2d_7 (Conv2D)            (None, 14, 14, 64)        18496     \n",
      "_________________________________________________________________\n",
      "leaky_re_lu_9 (LeakyReLU)    (None, 14, 14, 64)        0         \n",
      "_________________________________________________________________\n",
      "max_pooling2d_7 (MaxPooling2 (None, 7, 7, 64)          0         \n",
      "_________________________________________________________________\n",
      "conv2d_8 (Conv2D)            (None, 7, 7, 128)         73856     \n",
      "_________________________________________________________________\n",
      "leaky_re_lu_10 (LeakyReLU)   (None, 7, 7, 128)         0         \n",
      "_________________________________________________________________\n",
      "max_pooling2d_8 (MaxPooling2 (None, 4, 4, 128)         0         \n",
      "_________________________________________________________________\n",
      "flatten_2 (Flatten)          (None, 2048)              0         \n",
      "_________________________________________________________________\n",
      "dense_3 (Dense)              (None, 128)               262272    \n",
      "_________________________________________________________________\n",
      "leaky_re_lu_11 (LeakyReLU)   (None, 128)               0         \n",
      "_________________________________________________________________\n",
      "dense_4 (Dense)              (None, 10)                1290      \n",
      "=================================================================\n",
      "Total params: 356,234\n",
      "Trainable params: 356,234\n",
      "Non-trainable params: 0\n",
      "_________________________________________________________________\n"
     ]
    }
   ],
   "source": [
    "model.summary()"
   ]
  },
  {
   "cell_type": "code",
   "execution_count": 54,
   "metadata": {},
   "outputs": [
    {
     "name": "stdout",
     "output_type": "stream",
     "text": [
      "Epoch 1/20\n",
      "938/938 [==============================] - 53s 55ms/step - loss: 0.3518 - accuracy: 0.8875 - val_loss: 0.0342 - val_accuracy: 0.9884\n",
      "Epoch 2/20\n",
      "938/938 [==============================] - 34s 36ms/step - loss: 0.0411 - accuracy: 0.9867 - val_loss: 0.0469 - val_accuracy: 0.9843\n",
      "Epoch 3/20\n",
      "938/938 [==============================] - 30s 32ms/step - loss: 0.0280 - accuracy: 0.9919 - val_loss: 0.0286 - val_accuracy: 0.9898\n",
      "Epoch 4/20\n",
      "938/938 [==============================] - 50s 53ms/step - loss: 0.0211 - accuracy: 0.9933 - val_loss: 0.0311 - val_accuracy: 0.9905\n",
      "Epoch 5/20\n",
      "938/938 [==============================] - 82s 88ms/step - loss: 0.0160 - accuracy: 0.9950 - val_loss: 0.0256 - val_accuracy: 0.9916\n",
      "Epoch 6/20\n",
      "938/938 [==============================] - 77s 82ms/step - loss: 0.0128 - accuracy: 0.9958 - val_loss: 0.0293 - val_accuracy: 0.9917\n",
      "Epoch 7/20\n",
      "938/938 [==============================] - 51s 55ms/step - loss: 0.0075 - accuracy: 0.9974 - val_loss: 0.0339 - val_accuracy: 0.9901\n",
      "Epoch 8/20\n",
      "938/938 [==============================] - 29s 31ms/step - loss: 0.0102 - accuracy: 0.9965 - val_loss: 0.0371 - val_accuracy: 0.9896\n",
      "Epoch 9/20\n",
      "938/938 [==============================] - 25s 27ms/step - loss: 0.0074 - accuracy: 0.9976 - val_loss: 0.0352 - val_accuracy: 0.9911\n",
      "Epoch 10/20\n",
      "938/938 [==============================] - 38s 41ms/step - loss: 0.0073 - accuracy: 0.9977 - val_loss: 0.0286 - val_accuracy: 0.9917\n",
      "Epoch 11/20\n",
      "938/938 [==============================] - 64s 68ms/step - loss: 0.0046 - accuracy: 0.9985 - val_loss: 0.0323 - val_accuracy: 0.9926A: 0s - los\n",
      "Epoch 12/20\n",
      "938/938 [==============================] - 78s 83ms/step - loss: 0.0057 - accuracy: 0.9981 - val_loss: 0.0369 - val_accuracy: 0.9910 - loss: 0.0057 - accu - ETA: 58s - loss: 0.0056 - ETA: 53s - loss: 0.0055 - accuracy: - ETA: 52s - loss: 0.0054 - a - ETA: - ETA: 5s - ETA: 4s - loss: 0.0056 - accuracy - ETA: 3s - loss: 0.0056 - accuracy: 0.99 - ETA: 3s - loss: 0 - ETA: 2s - loss: 0.0056 - accura - ETA: 2s - loss: 0.0057 - \n",
      "Epoch 13/20\n",
      "938/938 [==============================] - 70s 75ms/step - loss: 0.0068 - accuracy: 0.9976 - val_loss: 0.0605 - val_accuracy: 0.9884\n",
      "Epoch 14/20\n",
      "938/938 [==============================] - 41s 44ms/step - loss: 0.0054 - accuracy: 0.9984 - val_loss: 0.0316 - val_accuracy: 0.9921 - accuracy: 0. - ETA: 4s - loss: 0.0052 - accuracy: 0.99 - ETA: 4s - loss: 0.0052 - accura - ETA: 4s - loss: 0.0052 -  - ETA: 3s - loss: 0.0052 - accuracy: 0. - ETA: 3s - loss: 0.0053 - accuracy: 0.99 - - ETA: 1s - loss: 0.0053 - accuracy: 0.99 - ETA: 1s -\n",
      "Epoch 15/20\n",
      "938/938 [==============================] - 25s 27ms/step - loss: 0.0017 - accuracy: 0.9995 - val_loss: 0.0326 - val_accuracy: 0.9938\n",
      "Epoch 16/20\n",
      "938/938 [==============================] - 30s 32ms/step - loss: 0.0059 - accuracy: 0.9983 - val_loss: 0.0345 - val_accuracy: 0.992717s - loss: 0.0018 - accuracy: 0. - ETA: 17s - l - ETA: 15s - loss: 0.0023 - accuracy: 0.99 - ETA: 15s - loss: 0.0024 - accurac - ETA: 15s - loss: 0.0026 - accuracy: 0.999 - ETA: 15s - loss: 0.0026 - accuracy: 0.999 - ETA: 15s - loss: 0.0026 - ETA: 14s - loss: 0.0030 - accuracy: - ETA: 14s - loss: 0.0032 - accuracy: 0.999 - ETA: 14s - loss: 0.0032 - accuracy: 0 - ETA: 13s - loss: 0 - ETA: 12s - loss: 0.0038 - accuracy: 0.999 - ETA: 12s - loss: 0.0038 - accuracy: 0 - ETA: 12s - loss: 0.0039 - accuracy: 0 - ETA: 12s - loss: 0.0040  - ETA: 6s - loss: 0 - ETA: 5s - loss: 0.005\n",
      "Epoch 17/20\n",
      "938/938 [==============================] - 49s 52ms/step - loss: 0.0028 - accuracy: 0.9992 - val_loss: 0.0462 - val_accuracy: 0.9909\n",
      "Epoch 18/20\n",
      "938/938 [==============================] - 74s 79ms/step - loss: 0.0048 - accuracy: 0.9985 - val_loss: 0.0306 - val_accuracy: 0.9926ra - ETA: 47s - loss: 0.00 - ETA: 46s - loss: 0.0044 - accuracy: 0.998 - ETA: 46s - loss: 0.0044 - accuracy: 0.998 - ETA: 46s - loss: 0.0044 - accuracy:  - E - ETA: 2 - ETA: 16s - loss - ETA: 2s - loss: 0.0048 - \n",
      "Epoch 19/20\n",
      "938/938 [==============================] - 79s 84ms/step - loss: 0.0049 - accuracy: 0.9987 - val_loss: 0.0373 - val_accuracy: 0.99291:01 - \n",
      "Epoch 20/20\n",
      "938/938 [==============================] - 56s 60ms/step - loss: 0.0031 - accuracy: 0.9990 - val_loss: 0.0407 - val_accuracy: 0.9921\n"
     ]
    }
   ],
   "source": [
    "model_train = model.fit(X_train, y_train_hot, batch_size=batch_size, epochs=epochs, verbose=1, validation_data=(X_test, y_test_hot))"
   ]
  },
  {
   "cell_type": "code",
   "execution_count": 60,
   "metadata": {},
   "outputs": [],
   "source": [
    "import cv2"
   ]
  },
  {
   "cell_type": "code",
   "execution_count": 63,
   "metadata": {},
   "outputs": [
    {
     "data": {
      "text/plain": [
       "<matplotlib.image.AxesImage at 0x20c86dcf970>"
      ]
     },
     "execution_count": 63,
     "metadata": {},
     "output_type": "execute_result"
    },
    {
     "data": {
      "image/png": "[encoded data removed]",
      "text/plain": [
       "<Figure size 288x288 with 1 Axes>"
      ]
     },
     "metadata": {
      "needs_background": "light"
     },
     "output_type": "display_data"
    }
   ],
   "source": [
    "digit = cv2.imread(\"3g.png\")\n",
    "plt.matshow(digit)"
   ]
  },
  {
   "cell_type": "code",
   "execution_count": 62,
   "metadata": {},
   "outputs": [],
   "source": [
    "digit_gray = (255 - digit_gray)"
   ]
  },
  {
   "cell_type": "code",
   "execution_count": 85,
   "metadata": {},
   "outputs": [],
   "source": [
    "d = digit_gray.reshape(-1, 28, 28, 1) / 255"
   ]
  },
  {
   "cell_type": "code",
   "execution_count": 68,
   "metadata": {},
   "outputs": [],
   "source": [
    "test_eval = model.evaluate(X_test, y_test_hot, verbose=0)"
   ]
  },
  {
   "cell_type": "code",
   "execution_count": 69,
   "metadata": {},
   "outputs": [
    {
     "name": "stdout",
     "output_type": "stream",
     "text": [
      "Test loss: 0.040706817060709\n",
      "Test accuracy: 0.9921000003814697\n"
     ]
    }
   ],
   "source": [
    "print('Test loss:', test_eval[0])\n",
    "print('Test accuracy:', test_eval[1])"
   ]
  },
  {
   "cell_type": "code",
   "execution_count": 72,
   "metadata": {},
   "outputs": [
    {
     "data": {
      "image/png": "[encoded data removed]",
      "text/plain": [
       "<Figure size 432x288 with 1 Axes>"
      ]
     },
     "metadata": {
      "needs_background": "light"
     },
     "output_type": "display_data"
    },
    {
     "data": {
      "image/png": "[encoded data removed]",
      "text/plain": [
       "<Figure size 432x288 with 1 Axes>"
      ]
     },
     "metadata": {
      "needs_background": "light"
     },
     "output_type": "display_data"
    }
   ],
   "source": [
    "accuracy = model_train.history['accuracy']\n",
    "val_accuracy = model_train.history['val_accuracy']\n",
    "loss = model_train.history['loss']\n",
    "val_loss = model_train.history['val_loss']\n",
    "epochs = range(len(accuracy))\n",
    "plt.plot(epochs, accuracy, 'bo', label='Training accuracy')\n",
    "plt.plot(epochs, val_accuracy, 'b', label='Validation accuracy')\n",
    "plt.title('Training and validation accuracy')\n",
    "plt.legend()\n",
    "plt.figure()\n",
    "plt.plot(epochs, loss, 'bo', label='Training loss')\n",
    "plt.plot(epochs, val_loss, 'b', label='Validation loss')\n",
    "plt.title('Training and validation loss')\n",
    "plt.legend()\n",
    "plt.show()"
   ]
  },
  {
   "cell_type": "markdown",
   "metadata": {},
   "source": [
    "## with Dropout"
   ]
  },
  {
   "cell_type": "code",
   "execution_count": 73,
   "metadata": {},
   "outputs": [],
   "source": [
    "batch_size = 64\n",
    "epochs = 20\n",
    "num_classes = 10"
   ]
  },
  {
   "cell_type": "code",
   "execution_count": 74,
   "metadata": {},
   "outputs": [],
   "source": [
    "model = Sequential()\n",
    "model.add(Conv2D(32, kernel_size=(3, 3),activation='linear',padding='same',input_shape=(28,28,1)))\n",
    "model.add(LeakyReLU(alpha=0.1))\n",
    "model.add(MaxPooling2D((2, 2),padding='same'))\n",
    "model.add(Dropout(0.25))\n",
    "model.add(Conv2D(64, (3, 3), activation='linear',padding='same'))\n",
    "model.add(LeakyReLU(alpha=0.1))\n",
    "model.add(MaxPooling2D(pool_size=(2, 2),padding='same'))\n",
    "model.add(Dropout(0.25))\n",
    "model.add(Conv2D(128, (3, 3), activation='linear',padding='same'))\n",
    "model.add(LeakyReLU(alpha=0.1))                  \n",
    "model.add(MaxPooling2D(pool_size=(2, 2),padding='same'))\n",
    "model.add(Dropout(0.4))\n",
    "model.add(Flatten())\n",
    "model.add(Dense(128, activation='linear'))\n",
    "model.add(LeakyReLU(alpha=0.1))           \n",
    "model.add(Dropout(0.3))\n",
    "model.add(Dense(num_classes, activation='softmax'))"
   ]
  },
  {
   "cell_type": "code",
   "execution_count": 75,
   "metadata": {},
   "outputs": [
    {
     "name": "stdout",
     "output_type": "stream",
     "text": [
      "Model: \"sequential_3\"\n",
      "_________________________________________________________________\n",
      "Layer (type)                 Output Shape              Param #   \n",
      "=================================================================\n",
      "conv2d_9 (Conv2D)            (None, 28, 28, 32)        320       \n",
      "_________________________________________________________________\n",
      "leaky_re_lu_12 (LeakyReLU)   (None, 28, 28, 32)        0         \n",
      "_________________________________________________________________\n",
      "max_pooling2d_9 (MaxPooling2 (None, 14, 14, 32)        0         \n",
      "_________________________________________________________________\n",
      "dropout (Dropout)            (None, 14, 14, 32)        0         \n",
      "_________________________________________________________________\n",
      "conv2d_10 (Conv2D)           (None, 14, 14, 64)        18496     \n",
      "_________________________________________________________________\n",
      "leaky_re_lu_13 (LeakyReLU)   (None, 14, 14, 64)        0         \n",
      "_________________________________________________________________\n",
      "max_pooling2d_10 (MaxPooling (None, 7, 7, 64)          0         \n",
      "_________________________________________________________________\n",
      "dropout_1 (Dropout)          (None, 7, 7, 64)          0         \n",
      "_________________________________________________________________\n",
      "conv2d_11 (Conv2D)           (None, 7, 7, 128)         73856     \n",
      "_________________________________________________________________\n",
      "leaky_re_lu_14 (LeakyReLU)   (None, 7, 7, 128)         0         \n",
      "_________________________________________________________________\n",
      "max_pooling2d_11 (MaxPooling (None, 4, 4, 128)         0         \n",
      "_________________________________________________________________\n",
      "dropout_2 (Dropout)          (None, 4, 4, 128)         0         \n",
      "_________________________________________________________________\n",
      "flatten_3 (Flatten)          (None, 2048)              0         \n",
      "_________________________________________________________________\n",
      "dense_5 (Dense)              (None, 128)               262272    \n",
      "_________________________________________________________________\n",
      "leaky_re_lu_15 (LeakyReLU)   (None, 128)               0         \n",
      "_________________________________________________________________\n",
      "dropout_3 (Dropout)          (None, 128)               0         \n",
      "_________________________________________________________________\n",
      "dense_6 (Dense)              (None, 10)                1290      \n",
      "=================================================================\n",
      "Total params: 356,234\n",
      "Trainable params: 356,234\n",
      "Non-trainable params: 0\n",
      "_________________________________________________________________\n"
     ]
    }
   ],
   "source": [
    "model.summary()"
   ]
  },
  {
   "cell_type": "code",
   "execution_count": 76,
   "metadata": {},
   "outputs": [],
   "source": [
    "model.compile(loss=keras.losses.categorical_crossentropy, optimizer=keras.optimizers.Adam(),metrics=['accuracy'])"
   ]
  },
  {
   "cell_type": "code",
   "execution_count": 77,
   "metadata": {},
   "outputs": [
    {
     "name": "stdout",
     "output_type": "stream",
     "text": [
      "Epoch 1/20\n",
      "938/938 [==============================] - 56s 59ms/step - loss: 0.5444 - accuracy: 0.8132 - val_loss: 0.0442 - val_accuracy: 0.98409967 - accuracy:  - ETA: 32s - loss: 1.8919 - accuracy: 0.306 - ETA: 32s - - ETA: 29s - loss: 1.4789 - accuracy: 0.46 -  - ETA: 21s - loss: 0. - ETA: 20s - loss: 0.8365 - acc - ETA: 20s - loss: 0.8233 -  - ETA: 20s - loss: 0.8079 - a - ETA: 20s - loss: - ETA: 19s - loss: 0.7717 - accuracy: 0. - ETA: 19s - loss: 0.7684 - accur - ETA: 18s - loss: 0.7595 - ac - ETA: 18s - loss: 0.7486 - accurac - ETA: 18s - loss: 0.7418 - accurac - ETA: 18s - lo - ETA: 17s - loss: 0.7150 - ETA: 16s - loss: 0.7026 - accuracy: 0.75 - ETA: 16s - loss: 0.7013 - accuracy - ETA: 16s - loss: 0.6963 - accuracy: 0.7 - ETA: 15s - loss: 0.6944 - accuracy: 0.759 - ETA: 15s - loss: 0.6938 - accuracy:  - ETA: 15s - loss: 0.6901 - accurac - ETA: 15s - loss: 0.6847 - accuracy: 0.762 - ETA: 15s - loss: 0.6841 - accuracy: 0.7 - ETA: 15s - loss: 0.6824 -  - ETA: 14s - loss: 0.6732 - accuracy: 0.76 - ETA: 14s - loss: 0.6720 - accuracy: 0.7 - ETA: 14s - loss:  - ETA: 13s - loss: 0.6567 - ac - ETA: 12s - loss: 0.6495 - accuracy: 0. - ETA: 12s - loss: 0.6474 - accuracy - ETA: 12s - loss: 0.6434 - accuracy: 0.777 - ETA: 12s - loss: 0.6429 - accuracy: 0.777 - ETA: 12s - loss: 0.6424 - accuracy: 0. - ETA: 12s - loss: 0.6404 - ETA: 11s - loss: 0.6312 - accuracy: 0.781 - ETA: 11s - loss: 0.6308 - - ETA: 10s - loss: 0.6229 - accuracy: 0.7 - ETA: 10s - loss: 0.6215 - accuracy: 0.7 - ETA: 10s - loss: 0.6201 - accuracy: 0.7 - ETA: 9s - loss: 0.61 - ETA: 7s - loss: 0.5954 - accu - ETA: 7s - loss: 0.593 - ETA: 5s - loss: 0.5805 - accuracy: 0. - ETA: 5s - loss: 0.5798 - accuracy - ETA: 5s - loss: 0.5783 - accuracy: 0. - ETA: 5s - loss: 0.5775  - ETA: 4s - loss: 0.5742 - accu - ETA: 4s - loss: 0.5721 - accu - ETA: 4s - loss: 0.5699 - accuracy: 0.80 - E - ETA: 2s - loss: 0.5625 - accu - ETA: 2s - loss: 0.5604 - accura - - ETA: 1s - loss: 0.5517 - accuracy:  - ETA: 1s - loss: 0.5508 -  - ETA: 0s - loss: 0.5\n",
      "Epoch 2/20\n",
      "938/938 [==============================] - 84s 89ms/step - loss: 0.0901 - accuracy: 0.9724 - val_loss: 0.0332 - val_accuracy: 0.9893 - loss: 0.1024 - accuracy: 0.9 - ETA: 51s - loss: 0.1023 - accuracy: - ETA: 51s - loss: 0.1021 - accuracy - ETA: 50s - los - E - ETA: 42s - loss: 0.0985 - accuracy: 0.9 - ETA: 42s - loss: 0.0984 - accuracy: 0. - ET - ETA: 39s - loss: 0.0973 - accuracy: 0 - ETA: 39s - loss: 0 - ETA: 37s - loss: 0.0967 - accuracy:  - ETA: 37s - loss: 0.0966 - accuracy - ETA: 36s - loss: 0.0964 - accura - ETA: 36s - loss: 0.0962 - accuracy: 0. - ETA: 35s - loss: 0.0961  - ETA: 34s - loss: 0.0958 - accurac - ETA: 34s - loss: 0.0957 - accuracy: 0.97 - ETA: 33s - loss: 0.0956 - accuracy: - ETA: 33s - loss: 0.0955 - accuracy: 0.971 - ETA: 33s - loss: 0.0955 - accuracy:  - ETA: 32s - loss: 0.0954 -  - ETA: 31s -\n",
      "Epoch 3/20\n",
      "938/938 [==============================] - 88s 94ms/step - loss: 0.0595 - accuracy: 0.9819 - val_loss: 0.0261 - val_accuracy: 0.991128 - loss: 0.0602 - accuracy: 0.98 - ETA: 1:28 - - ETA: 1:15 - loss: 0.0576 -  - E - ETA: 1:12 - loss: 0.0582  - ETA: 55s - loss: 0.0585 - accuracy: - ETA: 54s - loss: 0.0585 - accuracy: 0.9 - ETA: 54s - loss: 0.0585  - ETA: 35s - loss: 0.0591 - - ETA: 33s - loss: 0.0592 - ETA: 10s - loss: 0.0595 - ac - ETA: 9s - loss: 0.0 - ETA: 4s - l - ETA: 0s - loss: 0.0595 - accuracy - ETA: 0s - loss: 0.0595 - accu\n",
      "Epoch 4/20\n",
      "938/938 [==============================] - 52s 55ms/step - loss: 0.0520 - accuracy: 0.9834 - val_loss: 0.0281 - val_accuracy: 0.9902TA: 1:05 - loss: 0.0854 - accuracy: 0.97 - ETA: 1:05 - loss: 0.0843 - accuracy: 0. - ETA: 1:05 - loss: 0.0823 - accuracy:  - ETA: 1:02 - loss: 0 - ETA: 1:01 - loss: 0.0636 - accuracy: 0. -  - ETA: 59s - loss: 0.0593 - accurac - ETA: 58s - loss: 0.0583 - accuracy: 0.9 - ETA: 58s - loss: 0.0580 - accur - ETA: 57s - loss: 0.05 - ETA: 56s - loss: 0.0558 -  - ETA: 56s - loss: 0.0552 - accuracy: 0.982 - ETA: 56s - loss: 0.0552 - accu - ETA: 54s - loss: 0.0549 - ETA: 41s - loss: 0.0526 - ac - ETA: 40s - loss: 0.0525 - accuracy: 0.983 - ETA: 40s - loss: 0.0525 - acc - ETA: 39s - loss: 0.0525 - accuracy: 0 - ETA: 38s - loss: 0.0525 - acc - ETA: \n",
      "Epoch 5/20\n",
      "938/938 [==============================] - 31s 33ms/step - loss: 0.0461 - accuracy: 0.9858 - val_loss: 0.0237 - val_accuracy: 0.9921\n",
      "Epoch 6/20\n",
      "938/938 [==============================] - 47s 51ms/step - loss: 0.0424 - accuracy: 0.9868 - val_loss: 0.0191 - val_accuracy: 0.9933\n",
      "Epoch 7/20\n",
      "938/938 [==============================] - 72s 77ms/step - loss: 0.0363 - accuracy: 0.9883 - val_loss: 0.0235 - val_accuracy: 0.9925- ETA: 21s - loss: - ETA: 19s - loss: 0.0358 - accuracy: - ETA: 18s - loss: 0.0358 - accurac - ETA: 18s - loss: 0.0359 - accuracy: 0.9 - ETA: 18s - loss: 0.0359 - accura - ETA: 13s - loss: 0.0360 - accu - ETA: 12s - loss: 0. - ETA: 5s - loss: 0.0362  - ETA: 4s - loss: 0.036 - ETA: 4s - loss: 0.0362 - accuracy:  - ETA: 3s - loss: - ETA: 2s - loss: 0.0363 - accura - ETA: 2s - loss: 0.0363 - ac - ETA: 2s - loss: 0.0363 - accuracy: 0.98 - ETA: 2s - loss: 0.0363 - accuracy - ETA: 1s - loss: 0.036 - ETA: 0s - los\n",
      "Epoch 8/20\n",
      "938/938 [==============================] - 93s 99ms/step - loss: 0.0341 - accuracy: 0.9896 - val_loss: 0.0189 - val_accuracy: 0.993672  - ETA: 57s - loss: 0.0369 - accuracy: - ETA: 57s - loss: 0.0368 - accuracy:  - ETA: 57s - loss: 0.0367 - accuracy - ETA: 56s - loss: 0.0366 - accuracy: 0.98 - ETA: 56s - loss: 0.0366 - accuracy: 0.989 - ETA: 56s -  - ETA - ETA: 45s - loss: 0.0351 - acc - ETA: 44s - loss: 0.0350 - accura - ETA: 43s - loss: 0.03 - ETA: 42s - loss: 0.0348  - ETA: 40s - loss: 0.0347 - accuracy: 0.989 - ETA: 40 - ETA: 36s - loss:  - ETA: 30s - loss: 0. -  - E - ETA: 15s - loss: 0.0339 - - ETA: 14s - loss: 0.0339 - ETA - ETA: 5s - loss: 0.0340 -  - ETA: 4s - - ETA - ETA: 1s - loss: 0\n",
      "Epoch 9/20\n",
      "938/938 [==============================] - 75s 80ms/step - loss: 0.0304 - accuracy: 0.9897 - val_loss: 0.0214 - val_accuracy: 0.9924curacy: 0. - ETA: 1:21 - loss: 0.0279 - accuracy - ETA: 1:21 - loss: 0.027 - ETA: 1:19 - loss: 0.0279  - ETA: 1:18 - los - ETA: 1:09 - loss: 0.0286 - accuracy - ETA: 1:09 - loss: 0 - ETA: 1:07 - loss: 0.0286 - accuracy - ETA: 1:07 - loss: 0.0286 - accuracy - ETA: 1:06 - loss: 0.0286 - accuracy:  - ETA: 1:06 - loss: 0.0286 - accuracy:  - ETA: 1:06 - loss: 0.0287 - accuracy:  - ETA: 1:05 - loss: 0.0287 - accuracy: 0.99 - ETA: 1:05 - ETA: 1:03 - loss: 0.0287 - accura - ETA: 1:03 - loss: 0.0287 -  - ETA: 1:02 - loss: 0.0287 - accuracy: 0.99 - ETA: 1:02 - loss: 0.0287 - accuracy - ETA: 1:01 - loss: 0.0287 - accuracy - ETA: 1:01 - loss: 0.0287 - accuracy: 0. - ETA: 1:00 - loss: 0 - ETA: 59s - loss: 0.0288 - ac - ETA: 53s - loss: 0.0 - ETA: 50s - loss: 0.0293 - accuracy: 0.990 - ETA: 50s - loss: 0.0293  - ETA: 48s - loss: 0.0294 - accuracy: 0.990 - ETA: 48s - loss: 0.0294 - accurac - ETA: 47s - loss: 0.0294 - accu - ETA: 46s - loss: 0.0294 - accuracy: 0. - ETA: 45s - loss: 0.0294 - accuracy: 0.99 - ETA: 45s - loss: 0.0294 - accuracy: 0. - ETA: 45s - loss: 0.0294 - acc - ETA: 43s - loss: 0.0294 - accuracy: 0.9 - ETA: 43s - loss: 0.0294 - accuracy: 0.98 - ETA: 43s - loss: 0.0294 - accura - ETA - ETA: 38s - loss: 0.0295 - accuracy: 0.989 - ETA: 38s - los - ETA: 35s - loss: 0.0296 - accuracy: 0.989 - ETA: 35s - loss: 0.0296 -  - ETA: 33s - loss: 0.0296 - accuracy: 0. - ETA: 33s - loss: 0.0296 - accuracy: 0. - ETA: 33s - loss: 0.0296 - acc - ETA: 31s - loss: 0.0296 - accuracy: - ETA: 31s - loss: 0.0 - ETA: 29s - loss: 0.0297 - accuracy: 0 - ETA: 28s - loss: 0.0297 -  - ETA: 27s - loss: 0.0297 - accura - ETA: 17s - loss: 0.0300 - accuracy: 0.989 - ETA: 17s - loss: 0.0300 - accuracy: - ETA: 17s - loss: 0.0300 - accura - ETA: 16s - loss: 0.0300 - ac - ETA: - ETA: 11s - loss: 0.0301 - accuracy: 0. - ETA: 11s - loss: 0.0301 - accuracy: 0.98 - ETA: 11s - loss: 0.0301 - accuracy:  - ETA: 10s - loss: 0.0302 - accuracy: 0.989 - ETA: 10s - loss: 0.0302 - accuracy: 0.989  - ETA: 6s - loss: 0.0302 - accuracy:  - ETA:  - ETA: 1s - loss: 0.030 - ETA: 0s - loss: 0.0304 - accu\n",
      "Epoch 10/20\n",
      "938/938 [==============================] - 36s 39ms/step - loss: 0.0290 - accuracy: 0.9903 - val_loss: 0.0208 - val_accuracy: 0.9930\n",
      "Epoch 11/20\n",
      "938/938 [==============================] - 33s 35ms/step - loss: 0.0297 - accuracy: 0.9910 - val_loss: 0.0188 - val_accuracy: 0.9936\n",
      "Epoch 12/20\n",
      "938/938 [==============================] - 58s 62ms/step - loss: 0.0271 - accuracy: 0.9918 - val_loss: 0.0176 - val_accuracy: 0.9942A: 39s - loss: 0.0226 - ac - ETA: 38s - loss: 0 - ETA: 31s - loss: 0.0263 - accuracy - ETA: 30s - loss: 0.0264 - accuracy: 0. - ETA: 30s - loss: 0.02 - ETA: 29s - loss: 0.0266 - accuracy: 0.99 - ETA: 29s - loss: 0.0266 - ac - ETA: 29s - loss: 0.0267 - accuracy: 0.991 - E - ETA: 0s - loss: 0.0270 - accuracy: 0. - ETA: 0s - loss: 0.027 - ETA: 0s - loss: 0.0271 - accuracy: 0.\n",
      "Epoch 13/20\n",
      "938/938 [==============================] - 66s 70ms/step - loss: 0.0263 - accuracy: 0.9920 - val_loss: 0.0171 - val_accuracy: 0.9946: 37s - los - ETA: 35s - loss: - ETA: 33s - loss: 0.025 - ETA: 31 - ETA: 28s - loss: 0.0257 - accuracy: 0.992 - ETA: 28s -  - ETA: 13s - loss: 0.0261 - accura - ETA: 13s - loss: 0.0261 - accuracy: 0.992 - ETA - ETA: 7s - loss: 0.0262 - accura - ETA: 7s - - ETA: 5s - loss: 0.0263  - ETA: 5s - loss: 0.0263 - ac - ETA: 4s - loss: 0.0 - ETA\n",
      "Epoch 14/20\n",
      "938/938 [==============================] - 86s 92ms/step - loss: 0.0251 - accuracy: 0.9919 - val_loss: 0.0194 - val_accuracy: 0.9940TA: 1:09 - loss: 0.0308 - accuracy: 0. - ETA: 1:09 - loss: 0.0303 - accuracy:  - ETA: 1:09 - loss: 0.0297 - accura - E - ETA: 42s - loss: 0.\n",
      "Epoch 15/20\n",
      "938/938 [==============================] - 74s 79ms/step - loss: 0.0245 - accuracy: 0.9920 - val_loss: 0.0183 - val_accuracy: 0.99351s - loss: 0.0241 - accur - ETA: 40s - loss: 0.0241 - accuracy: 0 - ETA: 39s - loss: 0.0242 - accuracy:  - ETA: 39s - loss: 0.0242 - accuracy: 0. - ETA:  - ETA: 8s - los - ETA: 5s - loss: 0.0244 - accuracy:  - ETA: 3s - - ETA: 2s - loss: 0.0 - ETA: 1s - ETA: 0s - loss: 0.0245 - accuracy\n",
      "Epoch 16/20\n",
      "938/938 [==============================] - 40s 42ms/step - loss: 0.0244 - accuracy: 0.9922 - val_loss: 0.0188 - val_accuracy: 0.9944\n",
      "Epoch 17/20\n",
      "938/938 [==============================] - 31s 33ms/step - loss: 0.0227 - accuracy: 0.9922 - val_loss: 0.0181 - val_accuracy: 0.9943\n",
      "Epoch 18/20\n",
      "938/938 [==============================] - 54s 58ms/step - loss: 0.0220 - accuracy: 0.9928 - val_loss: 0.0192 - val_accuracy: 0.9939\n",
      "Epoch 19/20\n",
      "938/938 [==============================] - 70s 75ms/step - loss: 0.0185 - accuracy: 0.9939 - val_loss: 0.0177 - val_accuracy: 0.9936oss: 0.0162 - accura - ETA: 1:02 - loss: 0.0162 - accuracy: 0. - ETA: 1:02 - loss: 0.0162 - accuracy: 0. - ETA: 1:02 - loss: 0.0 - ETA: 1:01 - loss: 0.0164 - accuracy: 0.99 - ETA: 1:01 - loss: 0.0164 - accuracy - ETA: 1:01 - loss: 0.0164 - accuracy: 0. - ETA: 1:00 - loss: 0.0164 - accu - ETA: 1:00 - loss: 0.0165 - acc - ETA: 59s - loss: 0.0165 - accu - ETA: 29s - loss: 0.0172 - - ETA: 28s - loss: 0.0173 - ac - ETA: 27s - loss: 0.0174 - ac - ETA: 26s - loss: 0.0174 - ac - ETA: 25s - loss: 0.0175 - accuracy: 0.994 - ETA: 24s - loss: 0.0175 -  - ETA: 23s - loss: 0.0175 - accuracy: 0.9 - ETA: 23s - - ETA: 20 - ETA: 18s - loss: 0.01 - ETA: 13s - loss: 0.0180 - accuracy: 0.994 - ETA: 13s - loss: 0.0180 - accuracy: 0. - ETA: 12s - loss: - ETA: 8s - loss: 0.0181 -  - ETA: 6s - loss: 0.0182 - accuracy: 0. - ETA: 6s - loss: 0.0182 - accuracy - ETA: 6s - loss: 0.0182 - accuracy:  - ETA: 6s - loss: - ETA: 5s - loss: 0.018 - ETA: 2s - loss: 0.0184 -  - ETA: 2s - loss: 0.0184 - accuracy: 0. - ETA: 2s - loss: 0.0184 - accuracy: 0.99 - ETA: 2s - loss: 0.0 - ETA: 1s - loss: - ETA: 0s - loss: 0.0185 - accuracy - ETA: 0s - loss: 0.0185 - accuracy: 0.99\n",
      "Epoch 20/20\n",
      "938/938 [==============================] - 92s 98ms/step - loss: 0.0196 - accuracy: 0.9936 - val_loss: 0.0161 - val_accuracy: 0.9948 - loss: 0 - ETA:  - ETA: 1:02 - loss: 0.0157 - accuracy - ETA: 1:02 - loss: 0.015 - ETA: 1:01 - loss: 0.0157 - accuracy:  - ETA: 1:01 - loss: 0.0157 - accuracy: 0. - ETA: 1:01 - loss: 0.0157 - accuracy: 0. - ETA: 1:01 - loss: 0.0157 - accu - ETA: 1:00 - loss: 0.0157  - ETA: 1:00 - loss: 0.0158 - accuracy: 0. - ETA: 1:00 - loss: 0.0158 - accuracy: 0. - ETA: 1:00 - loss: 0.0158 - accuracy: 0. - ETA: 59s - loss: 0.0158 - accuracy: 0. - ETA: 59s - loss: 0.0158 - accuracy: 0.994 - ETA: 59s - loss: 0.0158 - accur - ETA: 58s - loss: 0.0158 - accuracy: 0.99 - ETA: 58s - loss: 0.0159 - accuracy: 0.99 - ETA: 58s - loss: 0.0159 - accura - ETA: 57s - loss: 0.0159 - accuracy: 0.9 - ETA: 57s - loss: 0.0159 - accuracy: 0.9 - ETA: 57s - loss: 0.0159 - accuracy:  - ETA: 56s - loss: 0.0160 - accura - ETA: 56s - loss: 0.0160 - ac - ETA: 55s - loss: 0.0161 - accuracy - ETA: 54s - loss: 0.0161 - accuracy: 0.994 - ETA: 54s - loss: 0.0161 - accuracy: 0.99 - ETA: 54s - loss: 0.0162 - accuracy: 0.9 - ETA: 54s - loss: 0.0162 - accuracy: 0.994 - ETA: 53s - loss:  - ETA: 52s - loss: 0.0162 - accuracy: 0.9 - ETA: 51s - loss: 0.0163 - accuracy:  - ETA: 51s - loss: 0.0163 - accuracy: 0.994 - ETA: 51s - loss: 0.0163 - accuracy: - ETA: 51s - loss: 0.0163 - accuracy: 0. - ETA: 50s - lo - ETA: 48s - loss: 0.0164 - accuracy: 0.994 - ETA: 48s - loss: 0.0164 - accuracy: 0.994 - ETA: 48s - loss: 0.0164 -  - ETA: 47s - los - ETA: 45s - loss: 0.0167 - accuracy: 0 - ETA: 45s - loss: 0.0167 - acc - ETA: 44s - loss: 0.0168 - accurac - ETA: 43s - loss: 0.0168 - accuracy: - ETA: 42s - lo - ETA: 40s - loss: 0.0171 -  - ETA: 39s - loss: 0.0172 - accuracy:  - ETA: 38s - loss: 0.0172 - accuracy: 0 - ETA: 38s - loss: 0.0173 - accuracy: 0.994 - ETA: 38s - loss: 0.0173 - accuracy: 0.99 - ETA: 37s - loss: 0.0173 - accuracy: 0. - ETA: 37s - loss: 0.0173 - accuracy - ETA: 36s - loss: 0.0174 - accu - ETA: 35s - loss: 0.0175 - accuracy: 0 - ETA: 35s - loss: 0.0175 - accuracy: 0.99 - ETA: 35s - loss: 0.0175 - accuracy: 0.99 - ETA: 35s - loss: 0.0176 - accuracy: 0.994 - ETA: 35s - loss: 0.0176 - accuracy: 0.99 - ETA: 34s - loss: 0.0176 - accuracy: 0.99 - ETA: 34s - loss: 0.0176 - accuracy: 0.9 - ETA: 34s - loss: 0.0176 - accuracy - ETA: 33s - loss: 0.0177 - accuracy: 0.99 - ETA: 33s - loss: 0.0177 - accuracy: 0.994 - ETA: 33s - loss: 0.0177 - accurac - ETA: 32s - loss: 0.0178 - accuracy: 0 - ETA: 32s - loss: 0.0178  - ETA: 30s - loss: 0.0180 - accuracy: 0.9 - ETA: 30s - loss: 0.0180 - accuracy:  - ETA: 29s - loss: 0.0180 - accuracy: 0. - ETA:  - ETA: 26s - loss: 0.0183 - accur - ETA: 25s - loss: 0.0184 - accuracy - ETA: 24s - loss: 0.0185 - accuracy: 0.993 - ETA: 24s - loss: 0.0185 - a - ETA: 23s - loss: 0.0186 - - ETA: 21s - loss: 0.0187 - accuracy:  - ETA: 21s - loss: 0.0187 - accuracy: 0.9 - ETA: 20s - loss: 0.0 - ETA: 18s - loss: 0.0188 - accuracy:  - ETA: 18s - loss: 0.0189 - accura - ETA: 17s - loss: 0.0189 -  - ETA - ETA: 3s - loss: 0.0195 - accuracy:  - ETA: 0s - loss: 0.0196 - \n"
     ]
    }
   ],
   "source": [
    "model_train_dropout = model.fit(X_train, y_train_hot, batch_size=batch_size,epochs=epochs,verbose=1,validation_data=(X_test, y_test_hot))"
   ]
  },
  {
   "cell_type": "code",
   "execution_count": 78,
   "metadata": {},
   "outputs": [
    {
     "name": "stdout",
     "output_type": "stream",
     "text": [
      "INFO:tensorflow:Assets written to: number_model.h5py\\assets\n"
     ]
    }
   ],
   "source": [
    "model.save(\"number_model.h5py\")"
   ]
  },
  {
   "cell_type": "code",
   "execution_count": 80,
   "metadata": {},
   "outputs": [
    {
     "name": "stdout",
     "output_type": "stream",
     "text": [
      "313/313 [==============================] - 1s 4ms/step - loss: 0.0161 - accuracy: 0.9948: 0s\n"
     ]
    }
   ],
   "source": [
    "test_eval = model.evaluate(X_test, y_test_hot, verbose=1)"
   ]
  },
  {
   "cell_type": "code",
   "execution_count": 82,
   "metadata": {},
   "outputs": [
    {
     "data": {
      "image/png": "[encoded data removed]",
      "text/plain": [
       "<Figure size 432x288 with 1 Axes>"
      ]
     },
     "metadata": {
      "needs_background": "light"
     },
     "output_type": "display_data"
    },
    {
     "data": {
      "image/png": "[encoded data removed]",
      "text/plain": [
       "<Figure size 432x288 with 1 Axes>"
      ]
     },
     "metadata": {
      "needs_background": "light"
     },
     "output_type": "display_data"
    }
   ],
   "source": [
    "accuracy = model_train_dropout.history['accuracy']\n",
    "val_accuracy = model_train_dropout.history['val_accuracy']\n",
    "loss = model_train_dropout.history['loss']\n",
    "val_loss = model_train_dropout.history['val_loss']\n",
    "epochs = range(len(accuracy))\n",
    "plt.plot(epochs, accuracy, 'bo', label='Training accuracy')\n",
    "plt.plot(epochs, val_accuracy, 'b', label='Validation accuracy')\n",
    "plt.title('Training and validation accuracy')\n",
    "plt.legend()\n",
    "plt.figure()\n",
    "plt.plot(epochs, loss, 'bo', label='Training loss')\n",
    "plt.plot(epochs, val_loss, 'b', label='Validation loss')\n",
    "plt.title('Training and validation loss')\n",
    "plt.legend()\n",
    "plt.show()"
   ]
  },
  {
   "cell_type": "code",
   "execution_count": null,
   "metadata": {},
   "outputs": [],
   "source": []
  },
  {
   "cell_type": "code",
   "execution_count": 87,
   "metadata": {},
   "outputs": [],
   "source": [
    "d = 1 - d"
   ]
  },
  {
   "cell_type": "code",
   "execution_count": 89,
   "metadata": {},
   "outputs": [
    {
     "data": {
      "text/plain": [
       "array([[3.2483615e-14, 3.7410686e-13, 1.3189533e-11, 1.0000000e+00,\n",
       "        1.4615644e-18, 8.3618071e-11, 2.5325095e-15, 1.9612699e-14,\n",
       "        6.3031421e-13, 1.8705842e-12]], dtype=float32)"
      ]
     },
     "execution_count": 89,
     "metadata": {},
     "output_type": "execute_result"
    }
   ],
   "source": [
    "model.predict(d)"
   ]
  },
  {
   "cell_type": "code",
   "execution_count": 150,
   "metadata": {},
   "outputs": [
    {
     "data": {
      "image/png": "[encoded data removed]",
      "text/plain": [
       "<Figure size 288x288 with 1 Axes>"
      ]
     },
     "metadata": {
      "needs_background": "light"
     },
     "output_type": "display_data"
    }
   ],
   "source": [
    "digit = cv2.imread(\"4.png\")\n",
    "plt.matshow(digit)\n",
    "\n",
    "\n",
    "digit_gray = cv2.cvtColor(digit, cv2.COLOR_BGR2GRAY)\n",
    "\n",
    "d = digit_gray.reshape(-1, 28, 28, 1) / 255\n",
    "\n",
    "d = 1 - d\n"
   ]
  },
  {
   "cell_type": "code",
   "execution_count": 151,
   "metadata": {},
   "outputs": [
    {
     "data": {
      "text/plain": [
       "array([[1.8003661e-11, 5.2784515e-05, 3.9151447e-09, 1.4573366e-10,\n",
       "        9.9983609e-01, 5.8890830e-05, 2.6503210e-06, 5.1836011e-08,\n",
       "        4.6460609e-05, 3.0865417e-06]], dtype=float32)"
      ]
     },
     "execution_count": 151,
     "metadata": {},
     "output_type": "execute_result"
    }
   ],
   "source": [
    "model.predict(d)"
   ]
  },
  {
   "cell_type": "code",
   "execution_count": null,
   "metadata": {},
   "outputs": [],
   "source": []
  },
  {
   "cell_type": "code",
   "execution_count": null,
   "metadata": {},
   "outputs": [],
   "source": []
  },
  {
   "cell_type": "code",
   "execution_count": null,
   "metadata": {},
   "outputs": [],
   "source": []
  }
 ],
 "metadata": {
  "kernelspec": {
   "display_name": "Python 3",
   "language": "python",
   "name": "python3"
  },
  "language_info": {
   "codemirror_mode": {
    "name": "ipython",
    "version": 3
   },
   "file_extension": ".py",
   "mimetype": "text/x-python",
   "name": "python",
   "nbconvert_exporter": "python",
   "pygments_lexer": "ipython3",
   "version": "3.8.3"
  }
 },
 "nbformat": 4,
 "nbformat_minor": 4
}
